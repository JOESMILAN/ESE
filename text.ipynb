{
 "cells": [
  {
   "cell_type": "code",
   "execution_count": 1,
   "metadata": {},
   "outputs": [],
   "source": [
    "import pandas as pd\n",
    "import numpy as np\n",
    "import re\n",
    "import nltk\n",
    "import string as st"
   ]
  },
  {
   "cell_type": "code",
   "execution_count": 2,
   "metadata": {},
   "outputs": [
    {
     "data": {
      "text/html": [
       "<div>\n",
       "<style scoped>\n",
       "    .dataframe tbody tr th:only-of-type {\n",
       "        vertical-align: middle;\n",
       "    }\n",
       "\n",
       "    .dataframe tbody tr th {\n",
       "        vertical-align: top;\n",
       "    }\n",
       "\n",
       "    .dataframe thead th {\n",
       "        text-align: right;\n",
       "    }\n",
       "</style>\n",
       "<table border=\"1\" class=\"dataframe\">\n",
       "  <thead>\n",
       "    <tr style=\"text-align: right;\">\n",
       "      <th></th>\n",
       "      <th>Title</th>\n",
       "      <th>Review Text</th>\n",
       "      <th>Rating</th>\n",
       "      <th>Recommended IND</th>\n",
       "      <th>Positive Feedback Count</th>\n",
       "      <th>Division Name</th>\n",
       "      <th>Department Name</th>\n",
       "      <th>Class Name</th>\n",
       "    </tr>\n",
       "    <tr>\n",
       "      <th>Age</th>\n",
       "      <th></th>\n",
       "      <th></th>\n",
       "      <th></th>\n",
       "      <th></th>\n",
       "      <th></th>\n",
       "      <th></th>\n",
       "      <th></th>\n",
       "      <th></th>\n",
       "    </tr>\n",
       "  </thead>\n",
       "  <tbody>\n",
       "    <tr>\n",
       "      <th>33</th>\n",
       "      <td>NaN</td>\n",
       "      <td>Absolutely wonderful - silky and sexy and comf...</td>\n",
       "      <td>4</td>\n",
       "      <td>1</td>\n",
       "      <td>0</td>\n",
       "      <td>Initmates</td>\n",
       "      <td>Intimate</td>\n",
       "      <td>Intimates</td>\n",
       "    </tr>\n",
       "    <tr>\n",
       "      <th>34</th>\n",
       "      <td>NaN</td>\n",
       "      <td>Love this dress!  it's sooo pretty.  i happene...</td>\n",
       "      <td>5</td>\n",
       "      <td>1</td>\n",
       "      <td>4</td>\n",
       "      <td>General</td>\n",
       "      <td>Dresses</td>\n",
       "      <td>Dresses</td>\n",
       "    </tr>\n",
       "    <tr>\n",
       "      <th>60</th>\n",
       "      <td>Some major design flaws</td>\n",
       "      <td>I had such high hopes for this dress and reall...</td>\n",
       "      <td>3</td>\n",
       "      <td>0</td>\n",
       "      <td>0</td>\n",
       "      <td>General</td>\n",
       "      <td>Dresses</td>\n",
       "      <td>Dresses</td>\n",
       "    </tr>\n",
       "    <tr>\n",
       "      <th>50</th>\n",
       "      <td>My favorite buy!</td>\n",
       "      <td>I love, love, love this jumpsuit. it's fun, fl...</td>\n",
       "      <td>5</td>\n",
       "      <td>1</td>\n",
       "      <td>0</td>\n",
       "      <td>General Petite</td>\n",
       "      <td>Bottoms</td>\n",
       "      <td>Pants</td>\n",
       "    </tr>\n",
       "    <tr>\n",
       "      <th>47</th>\n",
       "      <td>Flattering shirt</td>\n",
       "      <td>This shirt is very flattering to all due to th...</td>\n",
       "      <td>5</td>\n",
       "      <td>1</td>\n",
       "      <td>6</td>\n",
       "      <td>General</td>\n",
       "      <td>Tops</td>\n",
       "      <td>Blouses</td>\n",
       "    </tr>\n",
       "  </tbody>\n",
       "</table>\n",
       "</div>"
      ],
      "text/plain": [
       "                       Title  \\\n",
       "Age                            \n",
       "33                       NaN   \n",
       "34                       NaN   \n",
       "60   Some major design flaws   \n",
       "50          My favorite buy!   \n",
       "47          Flattering shirt   \n",
       "\n",
       "                                           Review Text  Rating  \\\n",
       "Age                                                              \n",
       "33   Absolutely wonderful - silky and sexy and comf...       4   \n",
       "34   Love this dress!  it's sooo pretty.  i happene...       5   \n",
       "60   I had such high hopes for this dress and reall...       3   \n",
       "50   I love, love, love this jumpsuit. it's fun, fl...       5   \n",
       "47   This shirt is very flattering to all due to th...       5   \n",
       "\n",
       "     Recommended IND  Positive Feedback Count   Division Name Department Name  \\\n",
       "Age                                                                             \n",
       "33                 1                        0       Initmates        Intimate   \n",
       "34                 1                        4         General         Dresses   \n",
       "60                 0                        0         General         Dresses   \n",
       "50                 1                        0  General Petite         Bottoms   \n",
       "47                 1                        6         General            Tops   \n",
       "\n",
       "    Class Name  \n",
       "Age             \n",
       "33   Intimates  \n",
       "34     Dresses  \n",
       "60     Dresses  \n",
       "50       Pants  \n",
       "47     Blouses  "
      ]
     },
     "execution_count": 2,
     "metadata": {},
     "output_type": "execute_result"
    }
   ],
   "source": [
    "df=pd.read_csv('Womens.csv',index_col=0)\n",
    "df.head()"
   ]
  },
  {
   "cell_type": "code",
   "execution_count": 3,
   "metadata": {},
   "outputs": [
    {
     "name": "stdout",
     "output_type": "stream",
     "text": [
      "<class 'pandas.core.frame.DataFrame'>\n",
      "Index: 23486 entries, 33 to 52\n",
      "Data columns (total 8 columns):\n",
      " #   Column                   Non-Null Count  Dtype \n",
      "---  ------                   --------------  ----- \n",
      " 0   Title                    19676 non-null  object\n",
      " 1   Review Text              22641 non-null  object\n",
      " 2   Rating                   23486 non-null  int64 \n",
      " 3   Recommended IND          23486 non-null  int64 \n",
      " 4   Positive Feedback Count  23486 non-null  int64 \n",
      " 5   Division Name            23472 non-null  object\n",
      " 6   Department Name          23472 non-null  object\n",
      " 7   Class Name               23472 non-null  object\n",
      "dtypes: int64(3), object(5)\n",
      "memory usage: 1.6+ MB\n"
     ]
    }
   ],
   "source": [
    "df.info()"
   ]
  },
  {
   "cell_type": "code",
   "execution_count": 4,
   "metadata": {},
   "outputs": [
    {
     "ename": "KeyError",
     "evalue": "'Review'",
     "output_type": "error",
     "traceback": [
      "\u001b[1;31m---------------------------------------------------------------------------\u001b[0m",
      "\u001b[1;31mKeyError\u001b[0m                                  Traceback (most recent call last)",
      "File \u001b[1;32mc:\\Users\\josmi_hir9642\\AppData\\Local\\Programs\\Python\\Python311\\Lib\\site-packages\\pandas\\core\\indexes\\base.py:3790\u001b[0m, in \u001b[0;36mIndex.get_loc\u001b[1;34m(self, key)\u001b[0m\n\u001b[0;32m   3789\u001b[0m \u001b[38;5;28;01mtry\u001b[39;00m:\n\u001b[1;32m-> 3790\u001b[0m     \u001b[38;5;28;01mreturn\u001b[39;00m \u001b[38;5;28;43mself\u001b[39;49m\u001b[38;5;241;43m.\u001b[39;49m\u001b[43m_engine\u001b[49m\u001b[38;5;241;43m.\u001b[39;49m\u001b[43mget_loc\u001b[49m\u001b[43m(\u001b[49m\u001b[43mcasted_key\u001b[49m\u001b[43m)\u001b[49m\n\u001b[0;32m   3791\u001b[0m \u001b[38;5;28;01mexcept\u001b[39;00m \u001b[38;5;167;01mKeyError\u001b[39;00m \u001b[38;5;28;01mas\u001b[39;00m err:\n",
      "File \u001b[1;32mindex.pyx:152\u001b[0m, in \u001b[0;36mpandas._libs.index.IndexEngine.get_loc\u001b[1;34m()\u001b[0m\n",
      "File \u001b[1;32mindex.pyx:181\u001b[0m, in \u001b[0;36mpandas._libs.index.IndexEngine.get_loc\u001b[1;34m()\u001b[0m\n",
      "File \u001b[1;32mpandas\\_libs\\hashtable_class_helper.pxi:7080\u001b[0m, in \u001b[0;36mpandas._libs.hashtable.PyObjectHashTable.get_item\u001b[1;34m()\u001b[0m\n",
      "File \u001b[1;32mpandas\\_libs\\hashtable_class_helper.pxi:7088\u001b[0m, in \u001b[0;36mpandas._libs.hashtable.PyObjectHashTable.get_item\u001b[1;34m()\u001b[0m\n",
      "\u001b[1;31mKeyError\u001b[0m: 'Review'",
      "\nThe above exception was the direct cause of the following exception:\n",
      "\u001b[1;31mKeyError\u001b[0m                                  Traceback (most recent call last)",
      "Cell \u001b[1;32mIn[4], line 7\u001b[0m\n\u001b[0;32m      4\u001b[0m     txt\u001b[38;5;241m=\u001b[39m\u001b[38;5;124m'\u001b[39m\u001b[38;5;124m'\u001b[39m\u001b[38;5;241m.\u001b[39mjoin([i\u001b[38;5;241m.\u001b[39mlower() \u001b[38;5;28;01mfor\u001b[39;00m i \u001b[38;5;129;01min\u001b[39;00m txt \u001b[38;5;28;01mif\u001b[39;00m i \u001b[38;5;129;01mnot\u001b[39;00m \u001b[38;5;129;01min\u001b[39;00m st\u001b[38;5;241m.\u001b[39mpunctuation])\n\u001b[0;32m      5\u001b[0m     \u001b[38;5;28;01mreturn\u001b[39;00m txt\n\u001b[1;32m----> 7\u001b[0m df[\u001b[38;5;124m'\u001b[39m\u001b[38;5;124mReview_cln\u001b[39m\u001b[38;5;124m'\u001b[39m]\u001b[38;5;241m=\u001b[39m\u001b[43mdf\u001b[49m\u001b[43m[\u001b[49m\u001b[38;5;124;43m'\u001b[39;49m\u001b[38;5;124;43mReview\u001b[39;49m\u001b[38;5;124;43m'\u001b[39;49m\u001b[43m]\u001b[49m\u001b[38;5;241m.\u001b[39mapply(\u001b[38;5;28;01mlambda\u001b[39;00m x:rem_punct(x))\n",
      "File \u001b[1;32mc:\\Users\\josmi_hir9642\\AppData\\Local\\Programs\\Python\\Python311\\Lib\\site-packages\\pandas\\core\\frame.py:3896\u001b[0m, in \u001b[0;36mDataFrame.__getitem__\u001b[1;34m(self, key)\u001b[0m\n\u001b[0;32m   3894\u001b[0m \u001b[38;5;28;01mif\u001b[39;00m \u001b[38;5;28mself\u001b[39m\u001b[38;5;241m.\u001b[39mcolumns\u001b[38;5;241m.\u001b[39mnlevels \u001b[38;5;241m>\u001b[39m \u001b[38;5;241m1\u001b[39m:\n\u001b[0;32m   3895\u001b[0m     \u001b[38;5;28;01mreturn\u001b[39;00m \u001b[38;5;28mself\u001b[39m\u001b[38;5;241m.\u001b[39m_getitem_multilevel(key)\n\u001b[1;32m-> 3896\u001b[0m indexer \u001b[38;5;241m=\u001b[39m \u001b[38;5;28;43mself\u001b[39;49m\u001b[38;5;241;43m.\u001b[39;49m\u001b[43mcolumns\u001b[49m\u001b[38;5;241;43m.\u001b[39;49m\u001b[43mget_loc\u001b[49m\u001b[43m(\u001b[49m\u001b[43mkey\u001b[49m\u001b[43m)\u001b[49m\n\u001b[0;32m   3897\u001b[0m \u001b[38;5;28;01mif\u001b[39;00m is_integer(indexer):\n\u001b[0;32m   3898\u001b[0m     indexer \u001b[38;5;241m=\u001b[39m [indexer]\n",
      "File \u001b[1;32mc:\\Users\\josmi_hir9642\\AppData\\Local\\Programs\\Python\\Python311\\Lib\\site-packages\\pandas\\core\\indexes\\base.py:3797\u001b[0m, in \u001b[0;36mIndex.get_loc\u001b[1;34m(self, key)\u001b[0m\n\u001b[0;32m   3792\u001b[0m     \u001b[38;5;28;01mif\u001b[39;00m \u001b[38;5;28misinstance\u001b[39m(casted_key, \u001b[38;5;28mslice\u001b[39m) \u001b[38;5;129;01mor\u001b[39;00m (\n\u001b[0;32m   3793\u001b[0m         \u001b[38;5;28misinstance\u001b[39m(casted_key, abc\u001b[38;5;241m.\u001b[39mIterable)\n\u001b[0;32m   3794\u001b[0m         \u001b[38;5;129;01mand\u001b[39;00m \u001b[38;5;28many\u001b[39m(\u001b[38;5;28misinstance\u001b[39m(x, \u001b[38;5;28mslice\u001b[39m) \u001b[38;5;28;01mfor\u001b[39;00m x \u001b[38;5;129;01min\u001b[39;00m casted_key)\n\u001b[0;32m   3795\u001b[0m     ):\n\u001b[0;32m   3796\u001b[0m         \u001b[38;5;28;01mraise\u001b[39;00m InvalidIndexError(key)\n\u001b[1;32m-> 3797\u001b[0m     \u001b[38;5;28;01mraise\u001b[39;00m \u001b[38;5;167;01mKeyError\u001b[39;00m(key) \u001b[38;5;28;01mfrom\u001b[39;00m \u001b[38;5;21;01merr\u001b[39;00m\n\u001b[0;32m   3798\u001b[0m \u001b[38;5;28;01mexcept\u001b[39;00m \u001b[38;5;167;01mTypeError\u001b[39;00m:\n\u001b[0;32m   3799\u001b[0m     \u001b[38;5;66;03m# If we have a listlike key, _check_indexing_error will raise\u001b[39;00m\n\u001b[0;32m   3800\u001b[0m     \u001b[38;5;66;03m#  InvalidIndexError. Otherwise we fall through and re-raise\u001b[39;00m\n\u001b[0;32m   3801\u001b[0m     \u001b[38;5;66;03m#  the TypeError.\u001b[39;00m\n\u001b[0;32m   3802\u001b[0m     \u001b[38;5;28mself\u001b[39m\u001b[38;5;241m.\u001b[39m_check_indexing_error(key)\n",
      "\u001b[1;31mKeyError\u001b[0m: 'Review'"
     ]
    }
   ],
   "source": [
    "# Removing Punctuation\n",
    "\n",
    "def rem_punct(txt):\n",
    "    txt=''.join([i.lower() for i in txt if i not in st.punctuation])\n",
    "    return txt\n",
    "\n",
    "df['Review_cln']=df['Review '].apply(lambda x:rem_punct(x))"
   ]
  },
  {
   "cell_type": "code",
   "execution_count": 7,
   "metadata": {},
   "outputs": [
    {
     "ename": "SyntaxError",
     "evalue": "unterminated string literal (detected at line 26) (3358994821.py, line 26)",
     "output_type": "error",
     "traceback": [
      "\u001b[1;36m  Cell \u001b[1;32mIn[7], line 26\u001b[1;36m\u001b[0m\n\u001b[1;33m    text = \"Absolutely wonderful - silky and sexy and comfortable\u001b[0m\n\u001b[1;37m           ^\u001b[0m\n\u001b[1;31mSyntaxError\u001b[0m\u001b[1;31m:\u001b[0m unterminated string literal (detected at line 26)\n"
     ]
    }
   ],
   "source": [
    "import nltk\n",
    "from nltk.corpus import stopwords\n",
    "import string\n",
    "import re\n",
    "\n",
    "def preprocess_text(text):\n",
    "    # Convert text to lowercase\n",
    "    text = text.lower()\n",
    "    \n",
    "    # Remove special characters and punctuation\n",
    "    text = re.sub(r'[^a-zA-Z0-9\\s]', '', text)\n",
    "    \n",
    "    # Tokenize the text\n",
    "    tokens = nltk.word_tokenize(text)\n",
    "    \n",
    "    # Remove stopwords\n",
    "    stop_words = set(stopwords.words('english'))\n",
    "    filtered_tokens = [word for word in tokens if word not in stop_words]\n",
    "    \n",
    "    # Join the tokens back into a single string\n",
    "    processed_text = ' '.join(filtered_tokens)\n",
    "    \n",
    "    return processed_text\n",
    "\n",
    "# Your text\n",
    "text = \"Your text goes here.\"\n",
    "\n",
    "# Preprocess the text\n",
    "processed_text = preprocess_text(text)\n",
    "\n",
    "print(processed_text)\n"
   ]
  },
  {
   "cell_type": "code",
   "execution_count": 13,
   "metadata": {},
   "outputs": [
    {
     "name": "stdout",
     "output_type": "stream",
     "text": [
      "First few lines of the dataset:\n",
      "Absolutely wonderful - silky and sexy and comfortable\n",
      "Love this dress!  it's sooo pretty.  i happened to find it in a store, and i'm glad i did bc i never would have ordered it online bc it's petite.  i bought a petite and am 5'8\".  i love the length on me- hits just a little below the knee.  would definitely be a true midi on someone who is truly petite.\n",
      "I had such high hopes for this dress and really wanted it to work for me. i initially ordered the petite small (my usual size) but i found this to be outrageously small. so small in fact that i could not zip it up! i reordered it in petite medium, which was just ok. overall, the top half was comfortable and fit nicely, but the bottom half had a very tight under layer and several somewhat cheap (net) over layers. imo, a major design flaw w\n",
      "Tokens using whitespace:\n",
      "['Absolutely', 'wonderful', '-', 'silky', 'and', 'sexy', 'and', 'comfortable', 'Love', 'this', 'dress!', \"it's\", 'sooo', 'pretty.', 'i', 'happened', 'to', 'find', 'it', 'in', 'a', 'store,', 'and', \"i'm\", 'glad', 'i', 'did', 'bc', 'i', 'never', 'would', 'have', 'ordered', 'it', 'online', 'bc', \"it's\", 'petite.', 'i', 'bought', 'a', 'petite', 'and', 'am', '5\\'8\".', 'i', 'love', 'the', 'length', 'on', 'me-', 'hits', 'just', 'a', 'little', 'below', 'the', 'knee.', 'would', 'definitely', 'be', 'a', 'true', 'midi', 'on', 'someone', 'who', 'is', 'truly', 'petite.', 'I', 'had', 'such', 'high', 'hopes', 'for', 'this', 'dress', 'and', 'really', 'wanted', 'it', 'to', 'work', 'for', 'me.', 'i', 'initially', 'ordered', 'the', 'petite', 'small', '(my', 'usual', 'size)', 'but', 'i', 'found', 'this', 'to', 'be', 'outrageously', 'small.', 'so', 'small', 'in', 'fact', 'that', 'i', 'could', 'not', 'zip', 'it', 'up!', 'i', 'reordered', 'it', 'in', 'petite', 'medium,', 'which', 'was', 'just', 'ok.', 'overall,', 'the', 'top', 'half', 'was', 'comfortable', 'and', 'fit', 'nicely,', 'but', 'the', 'bottom', 'half', 'had', 'a', 'very', 'tight', 'under', 'layer', 'and', 'several', 'somewhat', 'cheap', '(net)', 'over', 'layers.', 'imo,', 'a', 'major', 'design', 'flaw', 'was', 'the', 'net', 'over', 'layer', 'sewn', 'directly', 'into', 'the', 'zipper', '-', 'it', 'c', 'I', 'love,', 'love,', 'love', 'this', 'jumpsuit.', \"it's\", 'fun,', 'flirty,', 'and', 'fabulous!', 'every', 'time', 'i', 'wear', 'it,', 'i', 'get', 'nothing', 'but', 'great', 'compliments!', 'This', 'shirt', 'is', 'very', 'flattering', 'to', 'all', 'due', 'to', 'the', 'adjustable', 'front', 'tie.', 'it', 'is', 'the', 'perfect', 'length', 'to', 'wear', 'with', 'leggings', 'and', 'it', 'is', 'sleeveless', 'so', 'it', 'pairs', 'well', 'with', 'any', 'cardigan.', 'love', 'this', 'shirt!!!', 'I', 'love', 'tracy', 'reese', 'dresses,', 'but', 'this', 'one', 'is', 'not', 'for', 'the', 'very', 'petite.', 'i', 'am', 'just', 'under', '5', 'feet', 'tall', 'and', 'usually', 'wear', 'a', '0p', 'in', 'this', 'brand.', 'this', 'dress', 'was', 'very', 'pretty', 'out', 'of', 'the', 'package', 'but', 'its', 'a', 'lot', 'of', 'dress.', 'the', 'skirt', 'is', 'long', 'and', 'very', 'full', 'so', 'it', 'overwhelmed', 'my', 'small', 'frame.', 'not', 'a', 'stranger', 'to', 'alterations,', 'shortening', 'and', 'narrowing', 'the', 'skirt', 'would', 'take', 'away', 'from', 'the', 'embellishment', 'of', 'the', 'garment.', 'i', 'love', 'the', 'color', 'and', 'the', 'idea', 'of', 'the', 'style', 'but', 'it', 'just', 'did', 'not', 'work', 'on', 'me.', 'i', 'returned', 'this', 'dress.', 'I', 'aded', 'this', 'in', 'my', 'basket', 'at', 'hte', 'last', 'mintue', 'to', 'see', 'what', 'it', 'would', 'look', 'like', 'in', 'person.', '(store', 'pick', 'up).', 'i', 'went', 'with', 'teh', 'darkler', 'color', 'only', 'because', 'i', 'am', 'so', 'pale', ':-)', 'hte', 'color', 'is', 'really', 'gorgeous,', 'and', 'turns', 'out', 'it', 'mathced', 'everythiing', 'i', 'was', 'trying', 'on', 'with', 'it', 'prefectly.', 'it', 'is', 'a', 'little', 'baggy', 'on', 'me', 'and', 'hte', 'xs', 'is', 'hte', 'msallet', 'size', '(bummer,', 'no', 'petite).', 'i', 'decided', 'to', 'jkeep', 'it', 'though,', 'because', 'as', 'i', 'said,', 'it', 'matvehd', 'everything.', 'my', 'ejans,', 'pants,', 'and', 'the', '3', 'skirts', 'i', 'waas', 'trying', 'on', '(of', 'which', 'i', ']kept', 'all', ')', 'oops.', 'I', 'ordered', 'this', 'in', 'carbon', 'for', 'store', 'pick', 'up,', 'and', 'had', 'a', 'ton', 'of', 'stuff', '(as', 'always)', 'to', 'try', 'on', 'and', 'used', 'this', 'top', 'to', 'pair', '(skirts', 'and', 'pants).', 'everything', 'went', 'with', 'it.', 'the', 'color', 'is', 'really', 'nice', 'charcoal', 'with', 'shimmer,', 'and', 'went', 'well', 'with', 'pencil', 'skirts,', 'flare', 'pants,', 'etc.', 'my', 'only', 'compaint', 'is', 'it', 'is', 'a', 'bit', 'big,', 'sleeves', 'are', 'long', 'and', 'it', \"doesn't\", 'go', 'in', 'petite.', 'also', 'a', 'bit', 'loose', 'for', 'me,', 'but', 'no', 'xxs...', 'so', 'i', 'kept', 'it', 'and', 'wil', 'ldecide', 'later', 'since', 'the', 'light', 'color', 'is', 'already', 'sold', 'out', 'in', 'hte', 'smallest', 'size...', 'I', 'love', 'this', 'dress.', 'i', 'usually', 'get', 'an', 'xs', 'but', 'it', 'runs', 'a', 'little', 'snug', 'in', 'bust', 'so', 'i', 'ordered', 'up', 'a', 'size.', 'very', 'flattering', 'and', 'feminine', 'with', 'the', 'usual', 'retailer', 'flair', 'for', 'style.', \"I'm\", '5\"5\\'', 'and', '125', 'lbs.', 'i', 'ordered', 'the', 's', 'petite', 'to', 'make', 'sure', 'the', 'length', \"wasn't\", 'too', 'long.', 'i', 'typically', 'wear', 'an', 'xs', 'regular', 'in', 'retailer', 'dresses.', 'if', \"you're\", 'less', 'busty', '(34b', 'cup', 'or', 'smaller),', 'a', 's', 'petite', 'will', 'fit', 'you', 'perfectly', '(snug,', 'but', 'not', 'tight).', 'i', 'love', 'that', 'i', 'could', 'dress', 'it', 'up', 'for', 'a', 'party,', 'or', 'down', 'for', 'work.', 'i', 'love', 'that', 'the', 'tulle', 'is', 'longer', 'then', 'the', 'fabric', 'underneath.', 'Dress', 'runs', 'small', 'esp', 'where', 'the', 'zipper', 'area', 'runs.', 'i', 'ordered', 'the', 'sp', 'which', 'typically', 'fits', 'me', 'and', 'it', 'was', 'very', 'tight!', 'the', 'material', 'on', 'the', 'top', 'looks', 'and', 'feels', 'very', 'cheap', 'that', 'even', 'just', 'pulling', 'on', 'it', 'will', 'cause', 'it', 'to', 'rip', 'the', 'fabric.', 'pretty', 'disappointed', 'as', 'it', 'was', 'going', 'to', 'be', 'my', 'christmas', 'dress', 'this', 'year!', 'needless', 'to', 'say', 'it', 'will', 'be', 'going', 'back.', 'This', 'dress', 'is', 'perfection!', 'so', 'pretty', 'and', 'flattering.', 'More', 'and', 'more', 'i', 'find', 'myself', 'reliant', 'on', 'the', 'reviews', 'written', 'by', 'savvy', 'shoppers', 'before', 'me', 'and', 'for', 'the', 'most', 'past,', 'they', 'are', 'right', 'on', 'in', 'their', 'estimation', 'of', 'the', 'product.', 'in', 'the', 'case', 'of', 'this', 'dress-if', 'it', 'had', 'not', 'been', 'for', 'the', 'reveiws-i', 'doubt', 'i', 'would', 'have', 'even', 'tried', 'this.', 'the', 'dress', 'is', 'beautifully', 'made,', 'lined', 'and', 'reminiscent', 'of', 'the', 'old', 'retailer', 'quality.', 'it', 'is', 'lined', 'in', 'the', 'solid', 'periwinkle-colored', 'fabric', 'that', 'matches', 'the', 'outer', 'fabric', 'print.', 'tts', 'and', 'very', 'form-fitting.', 'falls', 'just', 'above', 'the', 'knee', 'and', 'does', 'not', 'rid', '\"Bought', 'the', 'black', 'xs', 'to', 'go', 'under', 'the', 'larkspur', 'midi', 'dress', 'because', 'they', \"didn't\", 'bother', 'lining', 'the', 'skirt', 'portion', '(grrrrrrrrrrr).', 'my', 'stats', 'are', '34a-28/29-36', 'and', 'the', 'xs', 'fit', 'very', 'smoothly', 'around', 'the', 'chest', 'and', 'was', 'flowy', 'around', 'my', 'lower', 'half,', 'so', 'i', 'would', 'say', \"it's\", 'running', 'big.', 'the', 'straps', 'are', 'very', 'pretty', 'and', 'it', 'could', 'easily', 'be', 'nightwear', 'too.', \"i'm\", '5\\'6\"\"', 'and', 'it', 'came', 'to', 'just', 'below', 'my', 'knees.\"', 'This', 'is', 'a', 'nice', 'choice', 'for', 'holiday', 'gatherings.', 'i', 'like', 'that', 'the', 'length', 'grazes', 'the', 'knee', 'so', 'it', 'is', 'conservative', 'enough', 'for', 'office', 'related', 'gatherings.', 'the', 'size', 'small', 'fit', 'me', 'well', '-', 'i', 'am', 'usually', 'a', 'size', '2/4', 'with', 'a', 'small', 'bust.', 'in', 'my', 'opinion', 'it', 'runs', 'small', 'and', 'those', 'with', 'larger', 'busts', 'will', 'definitely', 'have', 'to', 'size', 'up', '(but', 'then', 'perhaps', 'the', 'waist', 'will', 'be', 'too', 'big).', 'the', 'problem', 'with', 'this', 'dress', 'is', 'the', 'quality.', 'the', 'fabrics', 'are', 'terrible.', 'the', 'delicate', 'netting', 'type', 'fabric', 'on', 'the', 'top', 'layer', 'of', 'skirt', 'got', 'stuck', 'in', 'the', 'zip', 'I', 'took', 'these', 'out', 'of', 'the', 'package', 'and', 'wanted', 'them', 'to', 'fit', 'so', 'badly,', 'but', 'i', 'could', 'tell', 'before', 'i', 'put', 'them', 'on', 'that', 'they', \"wouldn't.\", 'these', 'are', 'for', 'an', 'hour-glass', 'figure.', 'i', 'am', 'more', 'straight', 'up', 'and', 'down.', 'the', 'waist', 'was', 'way', 'too', 'small', 'for', 'my', 'body', 'shape', 'and', 'even', 'if', 'i', 'sized', 'up,', 'i', 'could', 'tell', 'they', 'would', 'still', 'be', 'tight', 'in', 'the', 'waist', 'and', 'too', 'roomy', 'in', 'the', 'hips', '-', 'for', 'me.', 'that', 'said,', 'they', 'are', 'really', 'nice.', 'sturdy,', 'linen-like', 'fabric,', 'pretty', 'color,', 'well', 'made.', 'i', 'hope', 'they', 'make', 'someone', 'very', 'happy!', 'Material', 'and', 'color', 'is', 'nice.', 'the', 'leg', 'opening', 'is', 'very', 'large.', 'i', 'am', \"5'1\", '(100#)', 'and', 'the', 'length', 'hits', 'me', 'right', 'above', 'my', 'ankle.', 'with', 'a', 'leg', 'opening', 'the', 'size', 'of', 'my', 'waist', 'and', 'hem', 'line', 'above', 'my', 'ankle,', 'and', 'front', 'pleats', 'to', 'make', 'me', 'fluffy,', 'i', 'think', 'you', 'can', 'imagine', 'that', 'it', 'is', 'not', 'a', 'flattering', 'look.', 'if', 'you', 'are', 'at', 'least', 'average', 'height', 'or', 'taller,', 'this', 'may', 'look', 'good', 'on', 'you.', 'Took', 'a', 'chance', 'on', 'this', 'blouse', 'and', 'so', 'glad', 'i', 'did.', 'i', \"wasn't\", 'crazy', 'about', 'how', 'the', 'blouse', 'is', 'photographed', 'on', 'the', 'model.', 'i', 'paired', 'it', 'whit', 'white', 'pants', 'and', 'it', 'worked', 'perfectly.', 'crisp', 'and', 'clean', 'is', 'how', 'i', 'would', 'describe', 'it.', 'launders', 'well.', 'fits', 'great.', 'drape', 'is', 'perfect.', 'wear', 'tucked', 'in', 'or', 'out', '-', \"can't\", 'go', 'wrong.', 'A', 'flattering,', 'super', 'cozy', 'coat.', 'will', 'work', 'well', 'for', 'cold,', 'dry', 'days', 'and', 'will', 'look', 'good', 'with', 'jeans', 'or', 'a', 'dressier', 'outfit.', 'i', 'am', \"5'\", \"5'',\", 'about', '135', 'and', 'the', 'small', 'fits', 'great.', 'I', 'love', 'the', 'look', 'and', 'feel', 'of', 'this', 'tulle', 'dress.', 'i', 'was', 'looking', 'for', 'something', 'different,', 'but', 'not', 'over', 'the', 'top', 'for', 'new', \"year's\", 'eve.', \"i'm\", 'small', 'chested', 'and', 'the', 'top', 'of', 'this', 'dress', 'is', 'form', 'fitting', 'for', 'a', 'flattering', 'look.', 'once', 'i', 'steamed', 'the', 'tulle,', 'it', 'was', 'perfect!', 'i', 'ordered', 'an', 'xsp.', 'length', 'was', 'perfect', 'too.', '\"If', 'this', 'product', 'was', 'in', 'petite,', 'i', 'would', 'get', 'the', 'petite.', 'the', 'regular', 'is', 'a', 'little', 'long', 'on', 'me', 'but', 'a', 'tailor', 'can', 'do', 'a', 'simple', 'fix', 'on', 'that.', 'fits', 'nicely!', \"i'm\", \"5'4,\", '130lb', 'and', 'pregnant', 'so', 'i', 'bough', 't', 'medium', 'to', 'grow', 'into.', 'the', 'tie', 'can', 'be', 'front', 'or', 'back', 'so', 'provides', 'for', 'some', 'nice', 'flexibility', 'on', 'form', 'fitting.\"', \"I'm\", 'upset', 'because', 'for', 'the', 'price', 'of', 'the', 'dress,', 'i', 'thought', 'it', 'was', 'embroidered!', 'no,', 'that', 'is', 'a', 'print', 'on', 'the', 'fabric.', 'i', 'think', 'i', 'cried', 'a', 'little', 'when', 'i', 'opened', 'the', 'box.', 'it', 'is', 'still', 'ver', 'pretty.', 'i', 'would', 'say', 'it', 'is', 'true', 'to', 'size,', 'it', 'is', 'a', 'tad', 'bit', 'big', 'on', 'me,', 'but', 'i', 'am', 'very', 'tiny,', 'but', 'i', 'can', 'still', 'get', 'away', 'with', 'it.', 'the', 'color', 'is', 'vibrant.', 'the', 'style', 'is', 'unique.', 'skirt', 'portion', 'is', 'pretty', 'poofy.', 'i', 'keep', 'going', 'back', 'and', 'forth', 'on', 'it', 'mainly', 'because', 'of', 'the', 'price,', 'although', 'the', 'quality', 'is', 'definitely', 'there.', 'except', 'i', 'wish', 'it', 'were', 'emb', '\"First', 'of', 'all,', 'this', 'is', 'not', 'pullover', 'styling.', 'there', 'is', 'a', 'side', 'zipper.', 'i', \"wouldn't\", 'have', 'purchased', 'it', 'if', 'i', 'knew', 'there', 'was', 'a', 'side', 'zipper', 'because', 'i', 'have', 'a', 'large', 'bust', 'and', 'side', 'zippers', 'are', 'next', 'to', 'impossible', 'for', 'me.', 'second', 'of', 'all,', 'the', 'tulle', 'feels', 'and', 'looks', 'cheap', 'and', 'the', 'slip', 'has', 'an', 'awkward', 'tight', 'shape', 'underneath.', 'not', 'at', 'all', 'what', 'is', 'looks', 'like', 'or', 'is', 'described', 'as.', 'sadly', 'will', 'be', 'returning,', 'but', \"i'm\", 'sure', 'i', 'will', 'find', 'something', 'to', 'exchange', 'it', 'for!\"', 'Cute', 'little', 'dress', 'fits', 'tts.', 'it', 'is', 'a', 'little', 'high', 'waisted.', 'good', 'length', 'for', 'my', \"5'9\", 'height.', 'i', 'like', 'the', 'dress,', \"i'm\", 'just', 'not', 'in', 'love', 'with', 'it.', 'i', 'dont', 'think', 'it', 'looks', 'or', 'feels', 'cheap.', 'it', 'appears', 'just', 'as', 'pictured.', 'I', 'love', 'this', 'shirt', 'because', 'when', 'i', 'first', 'saw', 'it,', 'i', \"wasn't\", 'sure', 'if', 'it', 'was', 'a', 'shirt', 'or', 'dress.', 'since', 'it', 'is', 'see-through', 'if', 'you', 'wear', 'it', 'like', 'a', 'dress', 'you', 'will', 'need', 'a', 'slip', 'or', 'wear', 'it', 'with', 'leggings.', 'i', 'bought', 'a', 'slip,', 'wore', 'the', 'tie', 'in', 'the', 'back,', 'and', 'rocked', 'it', 'with', 'white', 'wedges.', 'you', 'could', 'also', 'wear', 'it', 'as', 'a', 'vest.', 'be', 'careful', 'with', 'the', 'buttons.', 'i', \"haven't\", 'had', 'any', 'fall', 'off', 'yet,', 'but', 'i', 'feel', 'like', 'they', 'will.', 'overall', \"it's\", 'great', 'for', 'any', 'occasion', 'and', \"it's\", 'fun', 'to', 'wear!', 'Loved', 'the', 'material,', 'but', 'i', 'didnt', 'really', 'look', 'at', 'how', 'long', 'the', 'dress', 'was', 'before', 'i', 'purchased', 'both', 'a', 'large', 'and', 'a', 'medium.', 'im', '5\\'5\"', 'and', 'there', 'was', 'atleast', '5\"', 'of', 'material', 'at', 'my', 'feet.', 'the', 'gaps', 'in', 'the', 'front', 'are', 'much', 'wider', 'than', 'they', 'look.', 'felt', 'like', 'the', 'dress', 'just', 'fell', 'flat.', 'both', 'were', 'returned.', 'im', 'usually', 'a', 'large', 'and', 'the', 'med', 'fit', 'better.', '36d', '30', 'in', 'jeans', 'I', 'have', 'been', 'waiting', 'for', 'this', 'sweater', 'coat', 'to', 'ship', 'for', 'weeks', 'and', 'i', 'was', 'so', 'excited', 'for', 'it', 'to', 'arrive.', 'this', 'coat', 'is', 'not', 'true', 'to', 'size', 'and', 'made', 'me', 'look', 'short', 'and', 'squat.', 'the', 'sleeves', 'are', 'very', 'wide', '(although', 'long).', 'as', 'a', 'light', 'weight', 'fall', 'coat', 'the', 'sleeves', \"don't\", 'need', 'to', 'be', 'as', 'wide', 'because', 'you', \"wouldn't\", 'be', 'layerng', 'too', 'much', 'underneath.', 'the', 'buttons', 'need', 'to', 'be', 'moved', 'at', 'least', 'three', 'inches', 'in', 'for', 'a', 'nicer', 'fit.', 'i', 'thought', 'about', 'redoing', 'the', 'buttons', 'myself', 'but', 'the', 'sleeves', 'looked', 'even', 'more', 'out', 'of', 'proportion', 'with', 'a', 'tigh', 'The', 'colors', \"weren't\", 'what', 'i', 'expected', 'either.', 'the', 'dark', 'blue', 'is', 'much', 'more', 'vibrant', 'and', 'i', 'just', \"couldn't\", 'find', 'anything', 'to', 'really', 'go', 'with', 'it.', 'fabric', 'is', 'thick', 'and', 'good', 'quality.', 'has', 'nice', 'weight', 'and', 'movement', 'to', 'it.', 'the', 'skirt', 'just', \"wasn't\", 'for', 'me,', 'in', 'the', 'end.', 'I', 'have', 'several', 'of', 'goodhyouman', 'shirts', 'and', 'i', 'get', 'so', 'many', 'compliments', 'on', 'them.', 'especially', 'the', 'one', 'that', 'says', 'forehead', 'kisses', 'are', 'underrated.', \"don't\", 'hesitate.', 'buy', 'this', 'shirt.', 'you', \"won't\", 'be', 'sorry.....', 'This', 'sweater', 'is', 'so', 'comfy', 'and', 'classic', '-', 'it', 'balances', 'a', 'quirky', 'hand-knit', 'look', 'with', 'a', 'beautiful', 'color', 'and', 'practical', 'fit.', 'it', 'is', 'a', 'bit', 'cropped', 'and', 'boxy', 'as', 'part', 'of', 'the', 'style,', 'and', 'as', 'others', 'mentioned,', 'there', 'are', 'gaps', 'in', 'the', 'knit', 'that', 'make', 'it', 'see-through.', 'in', 'my', 'opinion', 'this', 'makes', 'it', 'perfect', 'for', 'layering!', 'i', 'like', 'having', 'a', 'longer', 'camisole', 'showing', 'underneath,', 'or', 'wearing', 'it', 'over', 'a', 'little', 'dress.', \"it's\", 'warm', 'but', 'still', 'thin', 'enough', 'to', 'fit', 'under', 'a', 'jacket', 'or', 'coat.', 'Beautifully', 'made', 'pants', 'and', 'on', 'trend', 'with', 'the', 'flared', 'crop.', 'so', 'much', 'cuter', 'in', 'person.', 'love', 'these!', 'I', 'never', 'would', 'have', 'given', 'these', 'pants', 'a', 'second', 'look', 'online,', 'in', 'person', 'they', 'are', 'much', 'cuter!', 'the', 'stripes', 'are', 'brighter', 'and', 'the', 'fit', 'more', 'flattering.', 'the', 'crop', 'has', 'a', 'cute', 'flare', 'which', 'is', 'right', 'on', 'trend.', 'this', 'brand', 'has', 'always', 'run', 'small', 'for', 'me,', 'i', 'am', \"5'8\", 'about', '140lbs', 'and', 'carry', 'some', 'chubbiness', 'in', 'the', 'belly.', 'i', 'paired', 'it', 'with', 'a', 'collarless', 'loose', 'navy', 'blazer', 'These', 'pants', 'are', 'even', 'better', 'in', 'person.', 'the', 'only', 'downside', 'is', 'that', 'they', 'need', 'to', 'be', 'dry', 'cleaned.', 'I', 'ordered', 'this', '3', 'months', 'ago,', 'and', 'it', 'finally', 'came', 'off', 'back', 'order.', 'a', 'huge', 'disappointment.', 'the', 'fit', 'wasn&#39;t', 'so', 'much', 'the', 'issue', 'for', 'me.', 'the', 'quality', 'of', 'the', 'wool', 'is', 'subpar.', 'someone', 'else', 'mentioned', 'a', '&quot;felted', 'wool&quot;...i', 'guess,', 'is', 'that', 'what', 'you', 'call', 'it?', 'it', 'does', 'literally', 'feel', 'like', 'felt!', 'super', 'thin,', 'itchy,', 'doesn&#39;t', 'drape', 'very', 'well,', 'and', 'feels', 'cheap', '(made', 'in', 'china).', 'i', 'got', 'it', 'on', 'sale,', 'but', 'still', 'not', 'worth', 'what', 'i', 'paid.', 'definitely', 'going', 'back.', 'This', 'is', 'such', 'a', 'neat', 'dress.', 'the', 'color', 'is', 'great', 'and', 'the', 'fabric', 'is', 'super', 'soft.', 'i', 'am', 'tall', 'so', 'the', 'long', 'length', 'was', 'an', 'added', 'bonus.', 'it', 'definitely', 'needs', 'something', 'underneath', 'since', 'the', 'front', 'gaps.', 'i', 'am', 'going', 'to', 'pair', 'it', 'with', 'a', 'funky', 'tank', 'top,', 'necklaces', 'and', 'boots.', 'super', 'cute!!', \"Wouldn't\", 'have', 'given', 'them', 'a', 'second', 'look', 'but', 'tried', 'them', 'on', 'in', 'store', 'of', 'a', 'whim.', 'love,', 'love!!', 'This', 'is', 'a', 'comfortable', 'skirt', 'that', 'can', 'span', 'seasons', 'easily.', 'while', 'not', 'the', 'most', 'exciting', 'design,', 'it', 'is', 'a', 'good', 'work', 'skirt', 'that', 'can', 'be', 'paired', 'with', 'many', 'tops.', 'Just', 'ordered', 'this', 'in', 'a', 'small', 'for', 'me', '(5\\'6\",', '135,', 'size', '4)', 'and', 'medium', 'for', 'my', 'mom', '(5\\'3\",', '130,', 'size', '8)', 'and', 'it', 'is', 'gorgeous', '-', 'beautifully', 'draped,', 'all', 'the', 'weight/warmth', \"i'll\", 'need', 'for', 'houston', 'fall', 'and', 'winter,', 'looks', 'polished', 'snapped', 'or', 'unsnapped.', 'age-appropriate', 'for', 'both', 'my', 'mom', \"(60's)\", 'and', 'myself', \"(30's).\", 'will', 'look', 'amazing', 'with', 'skinny', 'jeans', 'or', 'leggings.', 'we', 'ordered', 'the', 'gray', 'which', 'is', 'true', 'to', 'the', 'photos.', 'Super', 'cute', 'and', 'comfy', 'pull', 'over.', 'sizing', 'is', 'accurate.', 'material', 'has', 'a', 'little', 'bit', 'of', 'stretch.', 'Great', 'casual', 'top', 'with', 'flare.', 'looks', 'cute', 'with', 'grey', 'pilcro', 'stet', 'jeans.', 'flattering', 'with', 'peplum', 'in', 'back.', 'nice', 'cut', 'for', 'shoulders', 'and', 'neckline.', 'Pretty', 'and', 'unique.', 'great', 'with', 'jeans', 'or', 'i', 'have', 'worn', 'it', 'to', 'work', 'with', 'slacks', 'and', 'heels.', 'the', 'colors,', 'print,', 'and', 'embroidery', 'are', 'lovely.', 'reasonably', 'priced!', 'This', 'is', 'a', 'beautiful', 'top.', \"it's\", 'unique', 'and', 'not', 'so', 'ordinary.', 'i', 'bought', 'my', 'usual', 'medium', 'and', 'i', 'found', 'that', 'it', 'fits', 'tight', 'across', 'my', 'chest.', 'although', 'i', 'had', 'a', 'baby', 'this', 'year', 'and', 'i', 'am', 'nursing,', 'so', 'that', 'could', 'be', 'why.', 'if', 'i', 'bought', 'again', 'i', 'would', 'size', 'up.', 'This', 'poncho', 'is', 'so', 'cute', 'i', 'love', 'the', 'plaid', 'check', 'design,', 'the', 'colors', 'look', 'like', 'sorbet', '&', 'cream', 'and', 'it', 'will', 'pair', 'well', 'with', 'a', 'turtleneck', 'and', 'jeans', 'or', 'pencil', 'skirt', 'and', 'heels.', 'i', 'love', 'this', 'look', 'for', 'fall', 'and', 'it', 'can', 'roll', 'right', 'into', 'spring.', 'great', 'buy!!', 'First,', 'this', 'is', 'thermal', ',so', 'naturally', 'i', \"didn't\", 'expect', 'super', 'sheer,', 'but', 'it', 'is.', 'really', 'sheer', 'light', 'fabric.', 'i', 'like', 'it,', 'but', 'be', 'prepared', 'for', 'considering', 'who', 'you', 'might', 'run', 'into', 'if', 'you', 'walk', 'around', 'the', 'house', 'in', 'it.', 'second,', 'it', 'is', 'large.', 'i', 'ordered', 'the', 'size', '0', 'and', \"it's\", 'a', 'nice', 'oversized', 'fit', 'for', 'my', '5\\'3\"', '125', 'pounds.', 'i', \"wouldn't\", 'want', 'to', 'go', 'larger.', 'along', 'with', 'being', 'sheer,', 'the', 'fabric', 'is', 'easily', 'stretched,', 'which', 'i', \"don't\", 'mind', 'in', 'this', 'case.', 'finally,', 'the', 'color.', 'it', 'looks', 'white', 'on', 'my', 'monitor', 'and', 'shows', 'a', 'colorful', 'blue', 'dot', 'Tried', 'this', 'on', 'today', 'at', 'my', 'local', 'retailer', 'and', 'had', 'to', 'have', 'it.', 'it', 'is', 'so', 'comfortable', 'and', 'flattering.', \"it's\", 'too', 'bad', 'the', 'picture', 'online', 'has', 'the', 'model', 'tucking', 'it', 'into', 'the', 'skirt', 'because', 'you', \"can't\", 'see', 'the', 'ruching', 'across', 'the', 'front.', 'a', 'little', 'dressier', 'alternative', 'to', 'a', 'plain', 'tee', 'and', 'reasonably', 'priced', 'for', 'retailer.', '5\\'8\"\"', 'and', 'i', 'generally', 'wear', 'a', '6,', 'the', 'small', 'fit', 'well.', 'will', 'probably', 'be', 'back', 'for', 'the', 'black!', 'I', 'bought', 'this', 'item', 'from', 'online...', 'the', 'fit', 'on', 'the', 'model', 'looked', 'a', 'little', 'loose', 'but', 'when', 'i', 'got', 'mine', 'it', 'seemed', 'a', 'bit', 'tight!', 'so', 'i', 'took', 'it', 'back', 'to', 'the', 'store', '&', 'ordered', 'a', 'larger', 'size.', 'for', 'the', 'sale', 'price', 'this', 'is', 'a', 'great', 'top.', 'I', 'love', 'this', 'top.', 'i', 'wear', 'it', 'all', 'the', 'time.', 'the', 'problem', 'is', 'that', 'you', 'can', 'tell', 'i', 'wear', 'it', 'all', 'the', 'time', 'as', 'the', 'fabric', 'has', 'started', 'to', 'fade.', \"i'd\", 'still', 'recommend', 'it', 'as', 'it', 'is', 'so', 'comfortable.', 'Very', 'comfortable,', 'material', 'is', 'good,', 'cut', 'out', 'on', 'sleeves', 'flattering', 'This', 'sweater', 'is', 'perfect', 'for', \"fall...it's\", 'roomy,', 'warm,', 'super', 'comfy', 'and', 'the', 'color', 'really', 'pops.']\n",
      "2781\n"
     ]
    },
    {
     "ename": "NameError",
     "evalue": "name 'tokens_nltk' is not defined",
     "output_type": "error",
     "traceback": [
      "\u001b[1;31m---------------------------------------------------------------------------\u001b[0m",
      "\u001b[1;31mNameError\u001b[0m                                 Traceback (most recent call last)",
      "Cell \u001b[1;32mIn[13], line 25\u001b[0m\n\u001b[0;32m     23\u001b[0m \u001b[38;5;66;03m# Remove stopwords\u001b[39;00m\n\u001b[0;32m     24\u001b[0m stop_words \u001b[38;5;241m=\u001b[39m \u001b[38;5;28mset\u001b[39m(stopwords\u001b[38;5;241m.\u001b[39mwords(\u001b[38;5;124m'\u001b[39m\u001b[38;5;124menglish\u001b[39m\u001b[38;5;124m'\u001b[39m))\n\u001b[1;32m---> 25\u001b[0m filtered_tokens \u001b[38;5;241m=\u001b[39m [word \u001b[38;5;28;01mfor\u001b[39;00m word \u001b[38;5;129;01min\u001b[39;00m \u001b[43mtokens_nltk\u001b[49m \u001b[38;5;28;01mif\u001b[39;00m word\u001b[38;5;241m.\u001b[39mlower() \u001b[38;5;129;01mnot\u001b[39;00m \u001b[38;5;129;01min\u001b[39;00m stop_words]\n\u001b[0;32m     26\u001b[0m \u001b[38;5;28mprint\u001b[39m(stop_words)\n",
      "\u001b[1;31mNameError\u001b[0m: name 'tokens_nltk' is not defined"
     ]
    }
   ],
   "source": [
    "import nltk\n",
    "from nltk.corpus import stopwords\n",
    "from nltk.tokenize import word_tokenize\n",
    "from nltk.stem import WordNetLemmatizer\n",
    "from collections import Counter\n",
    "import matplotlib.pyplot as plt\n",
    "import re\n",
    "\n",
    "# Read the text data\n",
    "with open('review.txt', 'r') as file:\n",
    "    text = file.read()\n",
    "\n",
    "# Display first few rows of the dataset\n",
    "print(\"First few lines of the dataset:\")\n",
    "print(text[:800])  # Displaying first 500 characters for brevity\n",
    "\n",
    "# Tokenization using whitespace\n",
    "tokens_whitespace = text.split()\n",
    "print(\"Tokens using whitespace:\")\n",
    "print(tokens_whitespace)\n",
    "print(len(tokens_whitespace))\n",
    "\n",
    "# Remove stopwords\n",
    "stop_words = set(stopwords.words('english'))\n",
    "filtered_tokens = [word for word in filtered_tokens if word.lower() not in stop_words]\n",
    "print(stop_words)\n",
    "\n"
   ]
  },
  {
   "cell_type": "code",
   "execution_count": 11,
   "metadata": {},
   "outputs": [
    {
     "name": "stdout",
     "output_type": "stream",
     "text": [
      "text goes\n"
     ]
    }
   ],
   "source": [
    "def preprocess_text(text):\n",
    "    # Convert text to lowercase\n",
    "    text = text.lower()\n",
    "    \n",
    "    # Remove special characters and punctuation\n",
    "    text = re.sub(r'[^a-zA-Z0-9\\s]', '', text)\n",
    "    \n",
    "    # Tokenize the text\n",
    "    tokens = nltk.word_tokenize(text)\n",
    "    \n",
    "    # Remove stopwords\n",
    "    stop_words = set(stopwords.words('english'))\n",
    "    filtered_tokens = [word for word in tokens if word not in stop_words]\n",
    "    \n",
    "    # Join the tokens back into a single string\n",
    "    processed_text = ' '.join(filtered_tokens)\n",
    "    \n",
    "    return processed_text\n",
    "\n",
    "# Your text\n",
    "text = \"Your text goes here.\"\n",
    "\n",
    "# Preprocess the text\n",
    "processed_text = preprocess_text(text)\n",
    "\n",
    "print(processed_text)"
   ]
  }
 ],
 "metadata": {
  "kernelspec": {
   "display_name": "Python 3",
   "language": "python",
   "name": "python3"
  },
  "language_info": {
   "codemirror_mode": {
    "name": "ipython",
    "version": 3
   },
   "file_extension": ".py",
   "mimetype": "text/x-python",
   "name": "python",
   "nbconvert_exporter": "python",
   "pygments_lexer": "ipython3",
   "version": "3.11.4"
  }
 },
 "nbformat": 4,
 "nbformat_minor": 2
}
